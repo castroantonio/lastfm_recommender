{
 "cells": [
  {
   "cell_type": "markdown",
   "metadata": {},
   "source": [
    "<h1>Jupyter Notebook do Trabalho de Computação Paralela e Distribuída</h1>\n",
    "<h1>Computação Paralela Aplicada ao Problema de Sistemas de Recomendação</h1>\n",
    "<h2>CEFET/RJ - PPCIC</h2>\n",
    "<h3>Alunos:\n",
    "    <ul>\n",
    "      <li>Adalberto Mineiro de Andrade - adalberto.andrade@eic.cefet-rj.br</li>\n",
    "      <li>Antonio Jose de Castro Filho - antonio.castro@eic.cefet-rj.br</li>\n",
    "    </ul>  \n",
    "</h3>\n",
    "<h3>Professora: Rafaelli Coutinho - rafaelli.coutinho@cefet-rj.br</h3>\n",
    "<h3>Orientador: Eduardo Ogasawara - eogasawara@cefet-rj.br</h3>"
   ]
  },
  {
   "cell_type": "markdown",
   "metadata": {},
   "source": [
    "<h4 style=\"text-align: center;\">Sem Paralelismo</h4>"
   ]
  },
  {
   "cell_type": "markdown",
   "metadata": {},
   "source": [
    "<h6>Configuração do ambiente</h6>"
   ]
  },
  {
   "cell_type": "code",
   "execution_count": 1,
   "metadata": {},
   "outputs": [],
   "source": [
    "import io\n",
    "import random\n",
    "import pandas as pd\n",
    "import numpy as np\n",
    "\n",
    "import scipy.sparse as sparse\n",
    "from scipy.sparse.linalg import spsolve\n",
    "from sklearn.preprocessing import MinMaxScaler\n",
    "from sklearn.preprocessing import MaxAbsScaler"
   ]
  },
  {
   "cell_type": "markdown",
   "metadata": {},
   "source": [
    "<h6>Carga dos dados</h6>"
   ]
  },
  {
   "cell_type": "code",
   "execution_count": 2,
   "metadata": {},
   "outputs": [
    {
     "name": "stdout",
     "output_type": "stream",
     "text": [
      "Linha 1 [1240105, 'André Visior']\n",
      "Linha 2 [1240113, 'riow arai']\n",
      "Linha 3 [1240132, 'Outkast & Rage Against the Machine']\n",
      "Linha 4 [6776115, '小松正夫']\n",
      "...\n",
      "...\n",
      "...\n",
      "Total de linhas (artists):  30537\n"
     ]
    }
   ],
   "source": [
    "## Dados dos Artistas (artist_data_reduzido.txt)\n",
    "## cada linha possui dois valores ID e NOME do artista\n",
    "artist = list()\n",
    "with open('artist_data_reduzido.txt', encoding=\"utf-8\") as openfileobject:\n",
    "    for line in openfileobject:\n",
    "        line = line[ :-1]  # retira o sinal de fim de linha '\\n'\n",
    "        str = line.split('\\t') # separa as colunas da linha\n",
    "        artist.append([int(str[0]), str[1]])  # cada linha com dois valores\n",
    "\n",
    "print('Linha 1', artist[0])\n",
    "print('Linha 2', artist[1])\n",
    "print('Linha 3', artist[2])\n",
    "print('Linha 4', artist[3])\n",
    "print('...')\n",
    "print('...')\n",
    "print('...')\n",
    "print('Total de linhas (artists): ', len(artist))"
   ]
  },
  {
   "cell_type": "code",
   "execution_count": 3,
   "metadata": {},
   "outputs": [
    {
     "name": "stdout",
     "output_type": "stream",
     "text": [
      "Linha 1 [1027859, 1252408]\n",
      "Linha 2 [1017615, 668]\n",
      "Linha 3 [6745885, 1268522]\n",
      "Linha 4 [1018110, 1018110]\n",
      "...\n",
      "...\n",
      "...\n",
      "Total de linhas (artists alias):  587\n"
     ]
    }
   ],
   "source": [
    "## Dados dos Apelidos (artist_alias_reduzido.txt)\n",
    "## cada linha possui dois valores IDapelido e IDnome do artista\n",
    "artistAlias = list()\n",
    "with open('artist_alias_reduzido.txt', encoding=\"utf-8\") as openfileobject:\n",
    "    for line in openfileobject:\n",
    "        line = line[ :-1]  # retira o sinal de fim de linha '\\n'\n",
    "        str = line.split('\\t') # separa as colunas da linha\n",
    "        artistAlias.append([int(str[0]), int(str[1])])  # cada linha com dois valores\n",
    "\n",
    "print('Linha 1', artistAlias[0])\n",
    "print('Linha 2', artistAlias[1])\n",
    "print('Linha 3', artistAlias[2])\n",
    "print('Linha 4', artistAlias[3])\n",
    "print('...')\n",
    "print('...')\n",
    "print('...')\n",
    "print('Total de linhas (artists alias): ', len(artistAlias))"
   ]
  },
  {
   "cell_type": "code",
   "execution_count": 4,
   "metadata": {},
   "outputs": [
    {
     "name": "stdout",
     "output_type": "stream",
     "text": [
      "Linha 1 [1059637, 1000010, 238]\n",
      "Linha 2 [1059637, 1000049, 1]\n",
      "Linha 3 [1059637, 1000056, 1]\n",
      "Linha 4 [1059637, 1000062, 11]\n",
      "...\n",
      "...\n",
      "...\n",
      "Total de linhas (user X artists): 49481\n"
     ]
    }
   ],
   "source": [
    "## Dados dos Usuários (user_artist_data_reduzido.txt)\n",
    "## cada linha possui tres valores IDusuario, IDartista e um CONTADOR\n",
    "userXartist = list()\n",
    "with open('user_artist_data_reduzido.txt', encoding=\"utf-8\") as openfileobject:\n",
    "    for line in openfileobject:\n",
    "        line = line[ :-1]  # retira o sinal de fim de linha '\\n'\n",
    "        str = line.split() # separa as colunas da linha\n",
    "        userXartist.append([int(str[0]), int(str[1]), int(str[2])])  #Cada linha com tres valores\n",
    "\n",
    "print('Linha 1', userXartist[0])\n",
    "print('Linha 2', userXartist[1])\n",
    "print('Linha 3', userXartist[2])\n",
    "print('Linha 4', userXartist[3])\n",
    "print('...')\n",
    "print('...')\n",
    "print('...')\n",
    "print('Total de linhas (user X artists):', len(userXartist))"
   ]
  },
  {
   "cell_type": "markdown",
   "metadata": {},
   "source": [
    "<h6>Transformando</h6>\n",
    "<p>Criando arrays e DataFrames para ter mais flexibilidade.</p>"
   ]
  },
  {
   "cell_type": "code",
   "execution_count": 5,
   "metadata": {},
   "outputs": [
    {
     "name": "stdout",
     "output_type": "stream",
     "text": [
      "<class 'pandas.core.frame.DataFrame'>\n",
      "RangeIndex: 30537 entries, 0 to 30536\n",
      "Data columns (total 2 columns):\n",
      "id      30537 non-null int64\n",
      "name    30537 non-null object\n",
      "dtypes: int64(1), object(1)\n",
      "memory usage: 477.2+ KB\n"
     ]
    },
    {
     "data": {
      "text/html": [
       "<div>\n",
       "<style scoped>\n",
       "    .dataframe tbody tr th:only-of-type {\n",
       "        vertical-align: middle;\n",
       "    }\n",
       "\n",
       "    .dataframe tbody tr th {\n",
       "        vertical-align: top;\n",
       "    }\n",
       "\n",
       "    .dataframe thead th {\n",
       "        text-align: right;\n",
       "    }\n",
       "</style>\n",
       "<table border=\"1\" class=\"dataframe\">\n",
       "  <thead>\n",
       "    <tr style=\"text-align: right;\">\n",
       "      <th></th>\n",
       "      <th>id</th>\n",
       "      <th>name</th>\n",
       "    </tr>\n",
       "  </thead>\n",
       "  <tbody>\n",
       "    <tr>\n",
       "      <th>0</th>\n",
       "      <td>1240105</td>\n",
       "      <td>André Visior</td>\n",
       "    </tr>\n",
       "    <tr>\n",
       "      <th>1</th>\n",
       "      <td>1240113</td>\n",
       "      <td>riow arai</td>\n",
       "    </tr>\n",
       "    <tr>\n",
       "      <th>2</th>\n",
       "      <td>1240132</td>\n",
       "      <td>Outkast &amp; Rage Against the Machine</td>\n",
       "    </tr>\n",
       "    <tr>\n",
       "      <th>3</th>\n",
       "      <td>6776115</td>\n",
       "      <td>小松正夫</td>\n",
       "    </tr>\n",
       "    <tr>\n",
       "      <th>4</th>\n",
       "      <td>1030848</td>\n",
       "      <td>Raver's Nature</td>\n",
       "    </tr>\n",
       "  </tbody>\n",
       "</table>\n",
       "</div>"
      ],
      "text/plain": [
       "        id                                name\n",
       "0  1240105                        André Visior\n",
       "1  1240113                           riow arai\n",
       "2  1240132  Outkast & Rage Against the Machine\n",
       "3  6776115                                小松正夫\n",
       "4  1030848                      Raver's Nature"
      ]
     },
     "execution_count": 5,
     "metadata": {},
     "output_type": "execute_result"
    }
   ],
   "source": [
    "## artist\n",
    "array_artist = np.asarray(artist)\n",
    "df_artist = pd.DataFrame.from_records(artist, columns=('id', 'name'))\n",
    "df_artist.info()\n",
    "df_artist.head()"
   ]
  },
  {
   "cell_type": "code",
   "execution_count": 6,
   "metadata": {},
   "outputs": [
    {
     "name": "stdout",
     "output_type": "stream",
     "text": [
      "<class 'pandas.core.frame.DataFrame'>\n",
      "RangeIndex: 587 entries, 0 to 586\n",
      "Data columns (total 2 columns):\n",
      "idAlias    587 non-null int64\n",
      "idName     587 non-null int64\n",
      "dtypes: int64(2)\n",
      "memory usage: 9.2 KB\n"
     ]
    },
    {
     "data": {
      "text/html": [
       "<div>\n",
       "<style scoped>\n",
       "    .dataframe tbody tr th:only-of-type {\n",
       "        vertical-align: middle;\n",
       "    }\n",
       "\n",
       "    .dataframe tbody tr th {\n",
       "        vertical-align: top;\n",
       "    }\n",
       "\n",
       "    .dataframe thead th {\n",
       "        text-align: right;\n",
       "    }\n",
       "</style>\n",
       "<table border=\"1\" class=\"dataframe\">\n",
       "  <thead>\n",
       "    <tr style=\"text-align: right;\">\n",
       "      <th></th>\n",
       "      <th>idAlias</th>\n",
       "      <th>idName</th>\n",
       "    </tr>\n",
       "  </thead>\n",
       "  <tbody>\n",
       "    <tr>\n",
       "      <th>0</th>\n",
       "      <td>1027859</td>\n",
       "      <td>1252408</td>\n",
       "    </tr>\n",
       "    <tr>\n",
       "      <th>1</th>\n",
       "      <td>1017615</td>\n",
       "      <td>668</td>\n",
       "    </tr>\n",
       "    <tr>\n",
       "      <th>2</th>\n",
       "      <td>6745885</td>\n",
       "      <td>1268522</td>\n",
       "    </tr>\n",
       "    <tr>\n",
       "      <th>3</th>\n",
       "      <td>1018110</td>\n",
       "      <td>1018110</td>\n",
       "    </tr>\n",
       "    <tr>\n",
       "      <th>4</th>\n",
       "      <td>1014609</td>\n",
       "      <td>1014609</td>\n",
       "    </tr>\n",
       "  </tbody>\n",
       "</table>\n",
       "</div>"
      ],
      "text/plain": [
       "   idAlias   idName\n",
       "0  1027859  1252408\n",
       "1  1017615      668\n",
       "2  6745885  1268522\n",
       "3  1018110  1018110\n",
       "4  1014609  1014609"
      ]
     },
     "execution_count": 6,
     "metadata": {},
     "output_type": "execute_result"
    }
   ],
   "source": [
    "## artistAlias\n",
    "array_artistAlias = np.asarray(artistAlias)\n",
    "df_artistAlias = pd.DataFrame.from_records(artistAlias, columns=('idAlias', 'idName'))\n",
    "df_artistAlias.info()\n",
    "df_artistAlias.head()"
   ]
  },
  {
   "cell_type": "code",
   "execution_count": 7,
   "metadata": {},
   "outputs": [
    {
     "name": "stdout",
     "output_type": "stream",
     "text": [
      "<class 'pandas.core.frame.DataFrame'>\n",
      "RangeIndex: 49481 entries, 0 to 49480\n",
      "Data columns (total 3 columns):\n",
      "idUser      49481 non-null int64\n",
      "idArtist    49481 non-null int64\n",
      "counter     49481 non-null int64\n",
      "dtypes: int64(3)\n",
      "memory usage: 1.1 MB\n"
     ]
    },
    {
     "data": {
      "text/html": [
       "<div>\n",
       "<style scoped>\n",
       "    .dataframe tbody tr th:only-of-type {\n",
       "        vertical-align: middle;\n",
       "    }\n",
       "\n",
       "    .dataframe tbody tr th {\n",
       "        vertical-align: top;\n",
       "    }\n",
       "\n",
       "    .dataframe thead th {\n",
       "        text-align: right;\n",
       "    }\n",
       "</style>\n",
       "<table border=\"1\" class=\"dataframe\">\n",
       "  <thead>\n",
       "    <tr style=\"text-align: right;\">\n",
       "      <th></th>\n",
       "      <th>idUser</th>\n",
       "      <th>idArtist</th>\n",
       "      <th>counter</th>\n",
       "    </tr>\n",
       "  </thead>\n",
       "  <tbody>\n",
       "    <tr>\n",
       "      <th>0</th>\n",
       "      <td>1059637</td>\n",
       "      <td>1000010</td>\n",
       "      <td>238</td>\n",
       "    </tr>\n",
       "    <tr>\n",
       "      <th>1</th>\n",
       "      <td>1059637</td>\n",
       "      <td>1000049</td>\n",
       "      <td>1</td>\n",
       "    </tr>\n",
       "    <tr>\n",
       "      <th>2</th>\n",
       "      <td>1059637</td>\n",
       "      <td>1000056</td>\n",
       "      <td>1</td>\n",
       "    </tr>\n",
       "    <tr>\n",
       "      <th>3</th>\n",
       "      <td>1059637</td>\n",
       "      <td>1000062</td>\n",
       "      <td>11</td>\n",
       "    </tr>\n",
       "    <tr>\n",
       "      <th>4</th>\n",
       "      <td>1059637</td>\n",
       "      <td>1000094</td>\n",
       "      <td>1</td>\n",
       "    </tr>\n",
       "  </tbody>\n",
       "</table>\n",
       "</div>"
      ],
      "text/plain": [
       "    idUser  idArtist  counter\n",
       "0  1059637   1000010      238\n",
       "1  1059637   1000049        1\n",
       "2  1059637   1000056        1\n",
       "3  1059637   1000062       11\n",
       "4  1059637   1000094        1"
      ]
     },
     "execution_count": 7,
     "metadata": {},
     "output_type": "execute_result"
    }
   ],
   "source": [
    "## userXartist\n",
    "array_userXartist = np.asarray(userXartist)\n",
    "df_userXartist = pd.DataFrame.from_records(userXartist, columns=('idUser', 'idArtist', 'counter'))\n",
    "df_userXartist.info()\n",
    "df_userXartist.head()"
   ]
  },
  {
   "cell_type": "markdown",
   "metadata": {},
   "source": [
    "<h6>Trocar apelidos por nomes originais</h6>"
   ]
  },
  {
   "cell_type": "code",
   "execution_count": 8,
   "metadata": {},
   "outputs": [],
   "source": [
    "## Efetua as trocas na array de userXartist\n",
    "for alias in artistAlias:\n",
    "    indexes = np.where(array_userXartist[:, 1] == alias[0])[0]\n",
    "    array_userXartist[indexes, 1] = alias[1]\n",
    "\n",
    "## Transforma a array em lista novamente\n",
    "userXartist = array_userXartist.tolist()\n",
    "df_userXartist = pd.DataFrame.from_records(userXartist, columns=('idUser', 'idArtist', 'counter'))"
   ]
  },
  {
   "cell_type": "markdown",
   "metadata": {},
   "source": [
    "<h6>Cria matriz esparsa de avaliações Usuários X Artistas</h6>"
   ]
  },
  {
   "cell_type": "code",
   "execution_count": 9,
   "metadata": {},
   "outputs": [
    {
     "name": "stderr",
     "output_type": "stream",
     "text": [
      "/home/antoniocastro/anaconda3/lib/python3.7/site-packages/ipykernel_launcher.py:7: FutureWarning: specifying 'categories' or 'ordered' in .astype() is deprecated; pass a CategoricalDtype instead\n",
      "  import sys\n",
      "/home/antoniocastro/anaconda3/lib/python3.7/site-packages/ipykernel_launcher.py:8: FutureWarning: specifying 'categories' or 'ordered' in .astype() is deprecated; pass a CategoricalDtype instead\n",
      "  \n"
     ]
    },
    {
     "data": {
      "text/plain": [
       "<50x30100 sparse matrix of type '<class 'numpy.int64'>'\n",
       "\twith 48943 stored elements in Compressed Sparse Row format>"
      ]
     },
     "execution_count": 9,
     "metadata": {},
     "output_type": "execute_result"
    }
   ],
   "source": [
    "# Cria lista de usuarios, artistas e contador\n",
    "users = list(np.sort(df_userXartist.idUser.unique()))\n",
    "artists = list(np.sort(df_userXartist.idArtist.unique()))\n",
    "plays = list(df_userXartist.counter)\n",
    " \n",
    "# Linhas e colunas para os valores do contador (plays)\n",
    "rows = df_userXartist.idUser.astype('category', categories = users).cat.codes\n",
    "cols = df_userXartist.idArtist.astype('category', categories = artists).cat.codes\n",
    "\n",
    "# Contrói uma matriz esparsa com users, items e número de execuções\n",
    "data_sparse = sparse.csr_matrix((plays, (rows, cols)), shape=(len(users), len(artists)))\n",
    "\n",
    "# Exibe dados sobre a matriz\n",
    "data_sparse"
   ]
  },
  {
   "cell_type": "markdown",
   "metadata": {},
   "source": [
    "<p>Calculando o quão esparsa é a matriz:</p>"
   ]
  },
  {
   "cell_type": "code",
   "execution_count": 10,
   "metadata": {},
   "outputs": [
    {
     "data": {
      "text/plain": [
       "96.74797342192691"
      ]
     },
     "execution_count": 10,
     "metadata": {},
     "output_type": "execute_result"
    }
   ],
   "source": [
    "matrix_size = data_sparse.shape[0]*data_sparse.shape[1] # linhas x colunas = capacidade total\n",
    "ocupied = len(data_sparse.nonzero()[0]) # itens realmente ocupados\n",
    "sparsity = 100*(1 - (ocupied/matrix_size))\n",
    "\n",
    "# Exibe a porcentagem de elementos não ocupados\n",
    "sparsity"
   ]
  },
  {
   "cell_type": "markdown",
   "metadata": {},
   "source": [
    "<h6>Função Alternating Least Squares (ALS)</h6>"
   ]
  },
  {
   "cell_type": "code",
   "execution_count": 11,
   "metadata": {},
   "outputs": [],
   "source": [
    "def implicit_als(sparse_data, alpha_val=40, iterations=10, lambda_val=0.1, features=10):\n",
    "\n",
    "    # Calcula a confidence para cada valor\n",
    "    confidence = sparse_data * alpha_val\n",
    "    \n",
    "    # Tamanho, número de usuários e de artistas\n",
    "    user_size, artist_size = sparse_data.shape\n",
    "    \n",
    "    # Gera vetores X e Y e coloca valores aleatórios.\n",
    "    X = sparse.csr_matrix(np.random.normal(size = (user_size, features)))\n",
    "    Y = sparse.csr_matrix(np.random.normal(size = (artist_size, features)))\n",
    "    \n",
    "    #Calcula I e lambda * I\n",
    "    X_I = sparse.eye(user_size)\n",
    "    Y_I = sparse.eye(artist_size)\n",
    "    \n",
    "    I = sparse.eye(features)\n",
    "    lI = lambda_val * I\n",
    "    \n",
    "    # Para cada iteração computar X e Y\n",
    "    print('Iterações a serem executadas: ', iterations)\n",
    "    for i in range(iterations):\n",
    "        print('Iteração em execução: ', i + 1)\n",
    "\n",
    "        yTy = Y.T.dot(Y)\n",
    "        xTx = X.T.dot(X)\n",
    "\n",
    "        # Para todos os usuários\n",
    "        for u in range(user_size):\n",
    "\n",
    "            # Linha.\n",
    "            u_row = confidence[u,:].toarray() \n",
    "\n",
    "            # Preferência.\n",
    "            p_u = u_row.copy()\n",
    "            p_u[p_u != 0] = 1.0\n",
    "\n",
    "\n",
    "            CuI = sparse.diags(u_row, [0])\n",
    "            Cu = CuI + Y_I\n",
    "\n",
    "            # Formula final.\n",
    "            yT_CuI_y = Y.T.dot(CuI).dot(Y)\n",
    "            yT_Cu_pu = Y.T.dot(Cu).dot(p_u.T)\n",
    "            X[u] = spsolve(yTy + yT_CuI_y + lI, yT_Cu_pu)\n",
    "\n",
    "\n",
    "        # Para todos os artistas\n",
    "        for i in range(artist_size):\n",
    "\n",
    "            # Transpõe a coluna.\n",
    "            i_row = confidence[:,i].T.toarray()\n",
    "\n",
    "            # Preferência.\n",
    "            p_i = i_row.copy()\n",
    "            p_i[p_i != 0] = 1.0\n",
    "\n",
    "            CiI = sparse.diags(i_row, [0])\n",
    "            Ci = CiI + X_I\n",
    "\n",
    "            # Formula final.\n",
    "            xT_CiI_x = X.T.dot(CiI).dot(X)\n",
    "            xT_Ci_pi = X.T.dot(Ci).dot(p_i.T)\n",
    "            Y[i] = spsolve(xTx + xT_CiI_x + lI, xT_Ci_pi)\n",
    "            \n",
    "    print('Modelo treinado!!!')\n",
    "\n",
    "    return X, Y    "
   ]
  },
  {
   "cell_type": "markdown",
   "metadata": {},
   "source": [
    "<h6>Executando a função ALS - treinando o sistema de recomendação</h6>"
   ]
  },
  {
   "cell_type": "code",
   "execution_count": 12,
   "metadata": {},
   "outputs": [
    {
     "name": "stdout",
     "output_type": "stream",
     "text": [
      "Iterações a serem executadas:  5\n",
      "Iteração em execução:  1\n",
      "Iteração em execução:  2\n",
      "Iteração em execução:  3\n",
      "Iteração em execução:  4\n",
      "Iteração em execução:  5\n",
      "Modelo treinado!!!\n"
     ]
    }
   ],
   "source": [
    "user_vecs, item_vecs = implicit_als(data_sparse, iterations=5, features=20, alpha_val=40)"
   ]
  },
  {
   "cell_type": "markdown",
   "metadata": {},
   "source": [
    "<h6>Achar itens similares a um dado item</h6>"
   ]
  },
  {
   "cell_type": "code",
   "execution_count": 13,
   "metadata": {
    "scrolled": true
   },
   "outputs": [
    {
     "name": "stdout",
     "output_type": "stream",
     "text": [
      "Artistas semelhantes a:\n",
      "Led Zeppelin\n",
      "                                              artist      score\n",
      "0                               Riccardo Eberspacher  80.879554\n",
      "1  Michael Torke/John Harle (saxophone), Albany S...  79.542736\n",
      "2                                       2raumwohnung  78.180950\n",
      "3                                          Melodrome  77.733844\n",
      "4                                         みうらじゅん&安斎肇  76.044759\n",
      "5                                    Hey Big Spender  75.989954\n",
      "6                                         Los Perros  75.109268\n",
      "7                             Tom Jones & Pretenders  74.169892\n",
      "8                     Ralphi Rosario Featuring Xavie  73.942883\n",
      "9                                    Lomax All Stars  73.896904\n"
     ]
    }
   ],
   "source": [
    "# Permite encontrar o nome do artista atraves de seu ID\n",
    "artist_lookup = df_artist[['id', 'name']].drop_duplicates() # Only get unique item/description pairs\n",
    "\n",
    "# Artistas similares a Led Zeppelin, código: 1394.\n",
    "item_id = 1394\n",
    "\n",
    "print('Artistas semelhantes a:')\n",
    "# Mostra o nome do Artista\n",
    "print(artist_lookup.name.loc[artist_lookup.id == item_id].iloc[0])\n",
    "\n",
    "# Qual a linha de Led Zeppelin?\n",
    "item_vec = item_vecs[item_id].T\n",
    "\n",
    "# Similaridade com outros (top 10).\n",
    "scores = item_vecs.dot(item_vec).toarray().reshape(1,-1)[0]\n",
    "top_10 = np.argsort(scores)[::-1][:10]\n",
    "\n",
    "artists = []\n",
    "artist_scores = []\n",
    "\n",
    "# Pega o nome e o score do artista\n",
    "for idx in top_10:\n",
    "    artists.append(artist_lookup.loc[idx].iloc[1])\n",
    "    artist_scores.append(scores[idx])\n",
    "\n",
    "similar = pd.DataFrame({'artist': artists, 'score': artist_scores})\n",
    "\n",
    "print(similar)"
   ]
  },
  {
   "cell_type": "markdown",
   "metadata": {},
   "source": [
    "<h6>Recomendações para um usuário</h6>"
   ]
  },
  {
   "cell_type": "markdown",
   "metadata": {},
   "source": [
    "<p>Função de recomendações</p>"
   ]
  },
  {
   "cell_type": "code",
   "execution_count": 14,
   "metadata": {},
   "outputs": [],
   "source": [
    "def recommend(user_id, data_sparse, user_vecs, item_vecs, artist_lookup, num_items=10):\n",
    "    # Todos os artistas que o usuario ja ouviu\n",
    "    user_interactions = data_sparse[user_id,:].toarray()\n",
    "    \n",
    "    # Elimina da recomendacao itens que o usuario ja ouviu.\n",
    "    user_interactions = user_interactions.reshape(-1) + 1 #Reshape to turn into 1D array\n",
    "    user_interactions[user_interactions > 1] = 0\n",
    "\n",
    "    # Calculando as recomendacoes, produto de usuários . artistas\n",
    "    rec_vector = user_vecs[user_id,:].dot(item_vecs.T).toarray()\n",
    "\n",
    "    # Escalonar os valores\n",
    "    min_max = MinMaxScaler()\n",
    "    rec_vector_scaled = min_max.fit_transform(rec_vector.reshape(-1,1))[:,0]\n",
    "    recommend_vector = user_interactions*rec_vector_scaled\n",
    "   \n",
    "    # Todos os indices dos artistas, o top \"num_items\". \n",
    "    item_idx = np.argsort(recommend_vector)[::-1][:num_items]\n",
    "\n",
    "    artists = []\n",
    "    scores = []\n",
    "\n",
    "    # Adiciona os nomes dos artistas\n",
    "    for idx in item_idx:\n",
    "        artists.append(artist_lookup.loc[idx].iloc[1])\n",
    "        scores.append(recommend_vector[idx])\n",
    "\n",
    "    # Cria dataframe com recomendações de artistas e sua pontuacao (0 à 1)\n",
    "    recommendations = pd.DataFrame({'artist': artists, 'score': scores})\n",
    "    \n",
    "    return recommendations"
   ]
  },
  {
   "cell_type": "markdown",
   "metadata": {},
   "source": [
    "<p>Identificação do usuário:</p>"
   ]
  },
  {
   "cell_type": "code",
   "execution_count": 15,
   "metadata": {},
   "outputs": [],
   "source": [
    "# As recomendações serão feitas para o usuário ID 2064012\n",
    "id_usuario = 2064012"
   ]
  },
  {
   "cell_type": "markdown",
   "metadata": {},
   "source": [
    "<p>O que um usuário específico tem ouvido:</p>"
   ]
  },
  {
   "cell_type": "code",
   "execution_count": 16,
   "metadata": {},
   "outputs": [
    {
     "name": "stdout",
     "output_type": "stream",
     "text": [
      "    idArtist                        name\n",
      "0    1000024                   Metallica\n",
      "1    1000052               The Offspring\n",
      "2    1000157                       AC/DC\n",
      "3    1000183                   Disturbed\n",
      "4    1000321            Bowling For Soup\n",
      "5    1000329             Bloodhound Gang\n",
      "6    1000427             New Found Glory\n",
      "7    1000481                    Slipknot\n",
      "8    1000570                Bad Religion\n",
      "9    1001007             Third Eye Blind\n",
      "10   1001597                      P.O.D.\n",
      "11   1001597                      P.O.D.\n",
      "12   1001779                Modest Mouse\n",
      "13   1001909                    Interpol\n",
      "14   1001943              Richard Cheese\n",
      "15   1002122                         Rap\n",
      "16   1002216                The Darkness\n",
      "17   1002648            Men Without Hats\n",
      "18   1003221                         CKY\n",
      "19   1007286                 Dir en grey\n",
      "20   1007993                 Denis Leary\n",
      "21  10091879  www.amateurtransplants.com\n",
      "22   1009455                     Group X\n",
      "23   1010602           Temple of the Dog\n",
      "24   1014421    Rage Against the Machine\n",
      "25   1014767                       Raffi\n",
      "26   1046202                 Joe Redifer\n",
      "27   1053277                 State Radio\n",
      "28   1058104                Gwen Stefani\n",
      "29      1205                          U2\n",
      "30   1231740             Franz Ferdinand\n",
      "31   1247272                        植松伸夫\n",
      "32   1260411        Linkin Park vs. Moby\n",
      "33   1266739                     Günther\n",
      "34   1281902                   Trenthian\n",
      "35   1034635                   [unknown]\n",
      "36      1307           The White Stripes\n",
      "37      1394                Led Zeppelin\n",
      "38      1784             Black Eyed Peas\n",
      "39      1854                 Linkin Park\n",
      "40      1890                        Moby\n",
      "41      1991                        Cake\n",
      "42   2056737        Steve 'BLEVO' Blevin\n",
      "43       234                      Pixies\n",
      "44      3321                   Semisonic\n",
      "45      3327                      Weezer\n",
      "46      3402                   Pearl Jam\n",
      "47       407                  Eurythmics\n",
      "48      4267                   Green Day\n",
      "49      4371                Lostprophets\n",
      "50      4465                      Sum 41\n",
      "51      4468            System of a Down\n",
      "52      4531         \"Weird Al\" Yankovic\n",
      "53      5705                   Rammstein\n",
      "54   2003588                        KoЯn\n",
      "55       930                      Eminem\n",
      "56       969                 Limp Bizkit\n",
      "57       976                     Nirvana\n"
     ]
    },
    {
     "name": "stderr",
     "output_type": "stream",
     "text": [
      "/home/antoniocastro/anaconda3/lib/python3.7/site-packages/ipykernel_launcher.py:5: SettingWithCopyWarning: \n",
      "A value is trying to be set on a copy of a slice from a DataFrame.\n",
      "Try using .loc[row_indexer,col_indexer] = value instead\n",
      "\n",
      "See the caveats in the documentation: http://pandas.pydata.org/pandas-docs/stable/indexing.html#indexing-view-versus-copy\n",
      "  \"\"\"\n"
     ]
    }
   ],
   "source": [
    "# O que o usuário tem ouvido?\n",
    "consumed_items = df_userXartist.loc[df_userXartist.idUser == id_usuario]\n",
    "\n",
    "df1 = consumed_items\n",
    "df1['id'] = df1.idArtist\n",
    "\n",
    "df2 = df_artist\n",
    "df2['id'] = df2.id\n",
    "\n",
    "inner = pd.merge(df1, df2, on='id')\n",
    "\n",
    "print(inner[['idArtist','name']])"
   ]
  },
  {
   "cell_type": "markdown",
   "metadata": {},
   "source": [
    "<p>Gerando recomendações para o usuário:</p>"
   ]
  },
  {
   "cell_type": "code",
   "execution_count": 17,
   "metadata": {},
   "outputs": [
    {
     "name": "stdout",
     "output_type": "stream",
     "text": [
      "                                   artist     score\n",
      "0                               Joan Baez  1.000000\n",
      "1                           Rachel Gaudry  0.913273\n",
      "2                            DDR 7th Max2  0.846057\n",
      "3                        Steve McClintock  0.819230\n",
      "4  Barbara Manning - The Blood of Feeling  0.815366\n",
      "5                          Carthy, Martin  0.811773\n",
      "6                               Che-SHIZU  0.779293\n",
      "7                               J Xaverre  0.757695\n",
      "8                               The Ponys  0.713437\n",
      "9                          George Dalaras  0.706673\n"
     ]
    }
   ],
   "source": [
    "posicao = users.index(id_usuario)\n",
    "recommendations = recommend(posicao, data_sparse, user_vecs, item_vecs, artist_lookup)\n",
    "print(recommendations)"
   ]
  }
 ],
 "metadata": {
  "kernelspec": {
   "display_name": "Python 3",
   "language": "python",
   "name": "python3"
  },
  "language_info": {
   "codemirror_mode": {
    "name": "ipython",
    "version": 3
   },
   "file_extension": ".py",
   "mimetype": "text/x-python",
   "name": "python",
   "nbconvert_exporter": "python",
   "pygments_lexer": "ipython3",
   "version": "3.7.0"
  }
 },
 "nbformat": 4,
 "nbformat_minor": 2
}
